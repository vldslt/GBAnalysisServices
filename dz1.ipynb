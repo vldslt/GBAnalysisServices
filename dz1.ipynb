{
  "nbformat": 4,
  "nbformat_minor": 0,
  "metadata": {
    "colab": {
      "name": "dz1.ipynb",
      "provenance": [],
      "authorship_tag": "ABX9TyOV2MDVk0SpEmBC/Wy0whHd",
      "include_colab_link": true
    },
    "kernelspec": {
      "name": "python3",
      "display_name": "Python 3"
    },
    "language_info": {
      "name": "python"
    }
  },
  "cells": [
    {
      "cell_type": "markdown",
      "metadata": {
        "id": "view-in-github",
        "colab_type": "text"
      },
      "source": [
        "<a href=\"https://colab.research.google.com/github/vldslt/GBAnalysisServices/blob/main/dz1.ipynb\" target=\"_parent\"><img src=\"https://colab.research.google.com/assets/colab-badge.svg\" alt=\"Open In Colab\"/></a>"
      ]
    },
    {
      "cell_type": "code",
      "source": [
        "import numpy as np\n",
        "import matplotlib.pyplot as plt\n",
        "from mpl_toolkits.mplot3d.axes3d import Axes3D"
      ],
      "metadata": {
        "id": "jd2r6-2jfsRN"
      },
      "execution_count": 4,
      "outputs": []
    },
    {
      "cell_type": "code",
      "execution_count": 24,
      "metadata": {
        "id": "F6zxBoNefTDy"
      },
      "outputs": [],
      "source": [
        "X = np.array([[ 1,  1],\n",
        "              [ 1,  1],\n",
        "              [ 1,  2],\n",
        "              [ 1,  5],\n",
        "              [ 1,  3],\n",
        "              [ 1,  0],\n",
        "              [ 1,  5],\n",
        "              [ 1, 10],\n",
        "              [ 1,  1],\n",
        "              [ 1,  2]])"
      ]
    },
    {
      "cell_type": "code",
      "source": [
        "y = [45, 55, 50, 55, 60, 35, 75, 80, 50, 60]"
      ],
      "metadata": {
        "id": "jWR2nuE3fyXP"
      },
      "execution_count": 25,
      "outputs": []
    },
    {
      "cell_type": "code",
      "source": [
        "plt.scatter(X[:, 1], y);"
      ],
      "metadata": {
        "colab": {
          "base_uri": "https://localhost:8080/",
          "height": 265
        },
        "id": "8CSjoBq4vIBR",
        "outputId": "45495b8d-e219-4889-ced9-d4f8a4d9ff8e"
      },
      "execution_count": 26,
      "outputs": [
        {
          "output_type": "display_data",
          "data": {
            "image/png": "[encoded data removed]",
            "text/plain": [
              "<Figure size 432x288 with 1 Axes>"
            ]
          },
          "metadata": {
            "needs_background": "light"
          }
        }
      ]
    },
    {
      "cell_type": "code",
      "source": [
        "y_pred1 = 5 * X[:, 1] + 35 * X[:, 0] \n",
        "y_pred2 = 7.5 * X[:, 1] + 40 * X[:, 0]"
      ],
      "metadata": {
        "id": "fcjpH6ll0EA2"
      },
      "execution_count": 27,
      "outputs": []
    },
    {
      "cell_type": "code",
      "source": [
        "plt.scatter(X[:, 1], y)\n",
        "plt.plot(X[:, 1], y_pred1, label='1')\n",
        "plt.plot(X[:, 1], y_pred2, label='2')\n",
        "plt.legend()\n",
        "plt.show()"
      ],
      "metadata": {
        "colab": {
          "base_uri": "https://localhost:8080/",
          "height": 265
        },
        "id": "PGr2hH6u0G-i",
        "outputId": "e1413c94-73c8-448e-a7fe-d40ef59f88e7"
      },
      "execution_count": 28,
      "outputs": [
        {
          "output_type": "display_data",
          "data": {
            "image/png": "[encoded data removed]",
            "text/plain": [
              "<Figure size 432x288 with 1 Axes>"
            ]
          },
          "metadata": {
            "needs_background": "light"
          }
        }
      ]
    },
    {
      "cell_type": "code",
      "source": [
        "err1 = np.sum(y - y_pred1)\n",
        "err2 = np.sum(y - y_pred2)\n",
        "err1, err2"
      ],
      "metadata": {
        "colab": {
          "base_uri": "https://localhost:8080/"
        },
        "id": "SpC6QJY50K3c",
        "outputId": "3a24d50b-b7bd-4b20-bd23-faf138ed4114"
      },
      "execution_count": 29,
      "outputs": [
        {
          "output_type": "execute_result",
          "data": {
            "text/plain": [
              "(65, -60.0)"
            ]
          },
          "metadata": {},
          "execution_count": 29
        }
      ]
    },
    {
      "cell_type": "code",
      "source": [
        "mae_1 = np.mean(np.abs(y - y_pred1))\n",
        "mae_2 = np.mean(np.abs(y - y_pred2))\n",
        "mae_1, mae_2"
      ],
      "metadata": {
        "colab": {
          "base_uri": "https://localhost:8080/"
        },
        "id": "TrNNp6YX0OQs",
        "outputId": "44fe7390-ef28-4d07-fb21-8c9f9bf8625c"
      },
      "execution_count": 30,
      "outputs": [
        {
          "output_type": "execute_result",
          "data": {
            "text/plain": [
              "(8.5, 9.0)"
            ]
          },
          "metadata": {},
          "execution_count": 30
        }
      ]
    },
    {
      "cell_type": "code",
      "source": [
        "mse_1 = np.mean((y - y_pred1)**2)\n",
        "mse_2 = np.mean((y - y_pred2)**2)\n",
        "mse_1, mse_2"
      ],
      "metadata": {
        "colab": {
          "base_uri": "https://localhost:8080/"
        },
        "id": "bi10gpjx0PAH",
        "outputId": "928ccaa5-dc39-4a96-f44f-8f49ee7b217a"
      },
      "execution_count": 31,
      "outputs": [
        {
          "output_type": "execute_result",
          "data": {
            "text/plain": [
              "(97.5, 188.75)"
            ]
          },
          "metadata": {},
          "execution_count": 31
        }
      ]
    },
    {
      "cell_type": "code",
      "source": [
        "W_analytical = np.linalg.inv(np.dot(X.T, X)) @ X.T @ y\n",
        "W_analytical"
      ],
      "metadata": {
        "colab": {
          "base_uri": "https://localhost:8080/"
        },
        "id": "W_uCRsgW0iVZ",
        "outputId": "f0f0d3f5-43e0-4bd1-d44e-25da1d1d2c63"
      },
      "execution_count": 32,
      "outputs": [
        {
          "output_type": "execute_result",
          "data": {
            "text/plain": [
              "array([45.0625,  3.8125])"
            ]
          },
          "metadata": {},
          "execution_count": 32
        }
      ]
    },
    {
      "cell_type": "code",
      "source": [
        "y_pred_analytical = W_analytical[0] * X[:, 0] + W_analytical[1] * X[:, 1]\n",
        "y_pred_analytical = X @ W_analytical"
      ],
      "metadata": {
        "id": "fsO_z-Wf0nIO"
      },
      "execution_count": 33,
      "outputs": []
    },
    {
      "cell_type": "code",
      "source": [
        "plt.scatter(X[:, 1], y)\n",
        "plt.plot(X[:, 1], y_pred1, label='1 - manual')\n",
        "plt.plot(X[:, 1], y_pred2, label='2 - manual')\n",
        "plt.plot(X[:, 1], y_pred_analytical, label='3 - analytical solution')\n",
        "plt.legend()\n",
        "plt.show()"
      ],
      "metadata": {
        "colab": {
          "base_uri": "https://localhost:8080/",
          "height": 265
        },
        "id": "B3bVH6_S0t7v",
        "outputId": "455e38b5-e715-4bd7-95a5-bc3c92c0a00f"
      },
      "execution_count": 34,
      "outputs": [
        {
          "output_type": "display_data",
          "data": {
            "image/png": "[encoded data removed]",
            "text/plain": [
              "<Figure size 432x288 with 1 Axes>"
            ]
          },
          "metadata": {
            "needs_background": "light"
          }
        }
      ]
    },
    {
      "cell_type": "code",
      "source": [
        "def calc_mae(y, y_pred):\n",
        "    err = np.mean(np.abs(y - y_pred))\n",
        "    return err\n",
        "\n",
        "def calc_mse(y, y_pred):\n",
        "    err = np.mean((y - y_pred)**2)\n",
        "    return err"
      ],
      "metadata": {
        "id": "AbsslQ6bf-xL"
      },
      "execution_count": 35,
      "outputs": []
    },
    {
      "cell_type": "code",
      "source": [
        "calc_mae(y, y_pred_analytical), calc_mse(y, y_pred_analytical)"
      ],
      "metadata": {
        "colab": {
          "base_uri": "https://localhost:8080/"
        },
        "id": "8CUcdkLP0zsn",
        "outputId": "b2061fd2-cb57-44c2-b0a1-9a872dd14dbd"
      },
      "execution_count": 36,
      "outputs": [
        {
          "output_type": "execute_result",
          "data": {
            "text/plain": [
              "(5.787499999999998, 43.96875)"
            ]
          },
          "metadata": {},
          "execution_count": 36
        }
      ]
    },
    {
      "cell_type": "code",
      "source": [
        "W = np.random.normal(size=(X.shape[1]))\n",
        "W"
      ],
      "metadata": {
        "colab": {
          "base_uri": "https://localhost:8080/"
        },
        "id": "cgVFTxbK086U",
        "outputId": "7513cb4f-e8ee-498b-8a53-95abc7995496"
      },
      "execution_count": 37,
      "outputs": [
        {
          "output_type": "execute_result",
          "data": {
            "text/plain": [
              "array([-0.03510077, -0.82561501])"
            ]
          },
          "metadata": {},
          "execution_count": 37
        }
      ]
    },
    {
      "cell_type": "code",
      "source": [
        "eta = 0.038 # величина шага"
      ],
      "metadata": {
        "id": "hcCU47Dg0_2T"
      },
      "execution_count": 209,
      "outputs": []
    },
    {
      "cell_type": "code",
      "source": [
        "X.shape,  W.shape"
      ],
      "metadata": {
        "colab": {
          "base_uri": "https://localhost:8080/"
        },
        "id": "4_jtshIM1DEs",
        "outputId": "3a216712-70ff-444b-d2c0-1f95915dfcfa"
      },
      "execution_count": 210,
      "outputs": [
        {
          "output_type": "execute_result",
          "data": {
            "text/plain": [
              "((10, 2), (2,))"
            ]
          },
          "metadata": {},
          "execution_count": 210
        }
      ]
    },
    {
      "cell_type": "code",
      "source": [
        "n = len(y)\n",
        "dQ = 2/n * X.T @ (X @ W - y) # градиент функции ошибки\n",
        "dQ"
      ],
      "metadata": {
        "colab": {
          "base_uri": "https://localhost:8080/"
        },
        "id": "sxt96M8r1GML",
        "outputId": "3ffe4efb-7f79-4142-cad1-0a48c162b3f4"
      },
      "execution_count": 211,
      "outputs": [
        {
          "output_type": "execute_result",
          "data": {
            "text/plain": [
              "array([-17.28593379,   3.13183836])"
            ]
          },
          "metadata": {},
          "execution_count": 211
        }
      ]
    },
    {
      "cell_type": "code",
      "source": [
        "grad = eta * dQ\n",
        "grad"
      ],
      "metadata": {
        "colab": {
          "base_uri": "https://localhost:8080/"
        },
        "id": "FIL6OhvD1JUC",
        "outputId": "5e3b370d-2c99-47e1-dfaf-211d188f06ca"
      },
      "execution_count": 227,
      "outputs": [
        {
          "output_type": "execute_result",
          "data": {
            "text/plain": [
              "array([-0.65686548,  0.11900986])"
            ]
          },
          "metadata": {},
          "execution_count": 227
        }
      ]
    },
    {
      "cell_type": "code",
      "source": [
        "print(f'previous weights', W)\n",
        "W = W - grad\n",
        "print(f'new weights', W)"
      ],
      "metadata": {
        "colab": {
          "base_uri": "https://localhost:8080/"
        },
        "id": "QJcwnO0B1JW-",
        "outputId": "fd043899-ca5a-433b-a57e-95b4941edd4b"
      },
      "execution_count": 228,
      "outputs": [
        {
          "output_type": "stream",
          "name": "stdout",
          "text": [
            "previous weights [29.39330307  6.6543032 ]\n",
            "new weights [30.05016856  6.53529334]\n"
          ]
        }
      ]
    },
    {
      "cell_type": "code",
      "source": [
        "y_pred_grad = X @ W\n",
        "plt.scatter(X[:, 1], y)\n",
        "plt.plot(X[:, 1], y_pred_grad, label='gradient descent', c='g')\n",
        "plt.legend()\n",
        "plt.show()"
      ],
      "metadata": {
        "colab": {
          "base_uri": "https://localhost:8080/",
          "height": 265
        },
        "id": "lcsy9dqD1Ngo",
        "outputId": "90ae8dd4-86ff-4fe9-9d67-b0f1cdcdb351"
      },
      "execution_count": 229,
      "outputs": [
        {
          "output_type": "display_data",
          "data": {
            "image/png": "[encoded data removed]",
            "text/plain": [
              "<Figure size 432x288 with 1 Axes>"
            ]
          },
          "metadata": {
            "needs_background": "light"
          }
        }
      ]
    },
    {
      "cell_type": "markdown",
      "source": [
        "***Подберите скорость обучения (eta) и количество итераций***"
      ],
      "metadata": {
        "id": "9IDQZhxYfWco"
      }
    },
    {
      "cell_type": "code",
      "source": [
        "n = X.shape[0]\n",
        "\n",
        "eta = 1e-2 \n",
        "n_iter = 100\n",
        "\n",
        "W = np.array([1, 0.5])\n",
        "print(f'Number of objects = {n} \\\n",
        "       \\nLearning rate = {eta} \\\n",
        "       \\nInitial weights = {W} \\n')\n",
        "\n",
        "for i in range(n_iter):\n",
        "    y_pred = np.dot(X, W)\n",
        "    err = calc_mse(y, y_pred)\n",
        "    for k in range(W.shape[0]):\n",
        "        W[k] -= eta * (1/n * 2 * X[:, k] @ (y_pred - y))\n",
        "    if i % 10 == 0:\n",
        "        eta /= 1.1\n",
        "        print(f'Iteration #{i}: W_new = {W}, MSE = {round(err, 2)}')"
      ],
      "metadata": {
        "colab": {
          "base_uri": "https://localhost:8080/"
        },
        "id": "rFHeiQPlfZ4M",
        "outputId": "4b1e1cd8-9956-46f7-8710-8ea595defe03"
      },
      "execution_count": 237,
      "outputs": [
        {
          "output_type": "stream",
          "name": "stdout",
          "text": [
            "Number of objects = 10        \n",
            "Learning rate = 0.01        \n",
            "Initial weights = [1.  0.5] \n",
            "\n",
            "Iteration #0: W_new = [2.08 4.27], MSE = 3047.75\n",
            "Iteration #10: W_new = [ 6.67106886 10.61676385], MSE = 749.71\n",
            "Iteration #20: W_new = [ 9.49320908 10.25731657], MSE = 648.91\n",
            "Iteration #30: W_new = [11.85740092  9.83349244], MSE = 570.46\n",
            "Iteration #40: W_new = [13.86876921  9.46898661], MSE = 508.03\n",
            "Iteration #50: W_new = [15.59085668  9.15672679], MSE = 457.73\n",
            "Iteration #60: W_new = [17.07337653  8.88789585], MSE = 416.77\n",
            "Iteration #70: W_new = [18.35601294  8.65530964], MSE = 383.06\n",
            "Iteration #80: W_new = [19.47073522  8.45317196], MSE = 355.08\n",
            "Iteration #90: W_new = [20.44350656  8.27677488], MSE = 331.65\n"
          ]
        }
      ]
    },
    {
      "cell_type": "code",
      "source": [
        "n = X.shape[0]\n",
        "\n",
        "eta = 0.035 #увеличил\n",
        "n_iter = 300 #уменьшил\n",
        "\n",
        "W = np.array([1, 0.5])\n",
        "print(f'Number of objects = {n} \\\n",
        "       \\nLearning rate = {eta} \\\n",
        "       \\nInitial weights = {W} \\n')\n",
        "\n",
        "for i in range(n_iter):\n",
        "    y_pred = np.dot(X, W)\n",
        "    err = calc_mse(y, y_pred)\n",
        "    for k in range(W.shape[0]):\n",
        "        W[k] -= eta * (1/n * 2 * X[:, k] @ (y_pred - y))\n",
        "    if i % 20 == 0: #увеличил\n",
        "        eta /= 0.9 #уменьшил, но не уверен что так можно,но результат вышел минимальный\n",
        "        print(f'Iteration #{i}: W_new = {W}, MSE = {round(err, 2)}')"
      ],
      "metadata": {
        "colab": {
          "base_uri": "https://localhost:8080/"
        },
        "id": "Plg93kU86HDC",
        "outputId": "fb0ecef2-d5b7-48af-f4c9-d7fcc3803b18"
      },
      "execution_count": 251,
      "outputs": [
        {
          "output_type": "stream",
          "name": "stdout",
          "text": [
            "Number of objects = 10        \n",
            "Learning rate = 0.035        \n",
            "Initial weights = [1.  0.5] \n",
            "\n",
            "Iteration #0: W_new = [ 4.78  13.695], MSE = 3047.75\n",
            "Iteration #20: W_new = [25.27841341  7.40003907], MSE = 242.13\n",
            "Iteration #40: W_new = [36.20923227  5.4179036 ], MSE = 83.98\n",
            "Iteration #60: W_new = [41.4466638   4.46817615], MSE = 50.7\n",
            "Iteration #80: W_new = [43.7289521   4.05431835], MSE = 44.89\n",
            "Iteration #100: W_new = [44.62365224  3.89207827], MSE = 44.07\n",
            "Iteration #120: W_new = [44.93535704  3.83555542], MSE = 43.98\n",
            "Iteration #140: W_new = [45.03055666  3.81829242], MSE = 43.97\n",
            "Iteration #160: W_new = [45.05508995  3.81060781], MSE = 43.97\n",
            "Iteration #180: W_new = [ -2997.06519784 -16772.50452808], MSE = 1083172019.97\n",
            "Iteration #200: W_new = [-3.29930602e+11 -1.81945771e+12], MSE = 9.430591074611261e+24\n",
            "Iteration #220: W_new = [-6.40555464e+20 -3.53245067e+21], MSE = 2.663902428477715e+43\n",
            "Iteration #240: W_new = [-2.00895255e+31 -1.10787061e+32], MSE = 1.9838841603699535e+64\n",
            "Iteration #260: W_new = [-9.33572754e+42 -5.14834371e+43], MSE = 3.271875242305289e+87\n",
            "Iteration #280: W_new = [-5.97407281e+55 -3.29450277e+56], MSE = 1.0307350299118237e+113\n"
          ]
        }
      ]
    },
    {
      "cell_type": "markdown",
      "source": [
        "***В этом коде мы избавляемся от итераций по весам, но тут есть ошибка, исправьте ее***"
      ],
      "metadata": {
        "id": "8WDfYEttff4y"
      }
    },
    {
      "cell_type": "code",
      "source": [
        "n = X.shape[0]\n",
        "\n",
        "eta = 1e-2 \n",
        "n_iter = 1000\n",
        "\n",
        "W = np.array([1, 0.5])\n",
        "print(f'Number of objects = {n} \\\n",
        "       \\nLearning rate = {eta} \\\n",
        "       \\nInitial weights = {W} \\n')\n",
        "\n",
        "for i in range(n_iter):\n",
        "    y_pred = np.dot(X, W)\n",
        "    err = calc_mse(y, y_pred)\n",
        "#    for k in range(W.shape[0]):\n",
        "#    W[k] -= eta * (1/n * 2 * X[:, k] @ (y_pred - y))\n",
        "#    W -= eta * (1/n * 2 * np.dot(X, y_pred - y))  \n",
        "# старые строки\n",
        "    W -= eta * (1/n * 2 * X[:, k] @ (y_pred - y)) #новая строка\n",
        "    if i % 40 == 0:\n",
        "        print(f'Iteration #{i}: W_new = {W}, MSE = {round(err,2)}')"
      ],
      "metadata": {
        "colab": {
          "base_uri": "https://localhost:8080/"
        },
        "id": "KzV4F8oWfg3V",
        "outputId": "ab495912-02a3-4632-b453-ba6e8b680923"
      },
      "execution_count": 270,
      "outputs": [
        {
          "output_type": "stream",
          "name": "stdout",
          "text": [
            "Number of objects = 10        \n",
            "Learning rate = 0.01        \n",
            "Initial weights = [1.  0.5] \n",
            "\n",
            "Iteration #0: W_new = [2.08 1.58], MSE = 3047.75\n",
            "Iteration #40: W_new = [14.05778376 13.55778376], MSE = 801.45\n",
            "Iteration #80: W_new = [14.48425481 13.98425481], MSE = 871.47\n",
            "Iteration #120: W_new = [14.49943939 13.99943939], MSE = 874.15\n",
            "Iteration #160: W_new = [14.49998004 13.99998004], MSE = 874.25\n",
            "Iteration #200: W_new = [14.49999929 13.99999929], MSE = 874.25\n",
            "Iteration #240: W_new = [14.49999997 13.99999997], MSE = 874.25\n",
            "Iteration #280: W_new = [14.5 14. ], MSE = 874.25\n",
            "Iteration #320: W_new = [14.5 14. ], MSE = 874.25\n",
            "Iteration #360: W_new = [14.5 14. ], MSE = 874.25\n",
            "Iteration #400: W_new = [14.5 14. ], MSE = 874.25\n",
            "Iteration #440: W_new = [14.5 14. ], MSE = 874.25\n",
            "Iteration #480: W_new = [14.5 14. ], MSE = 874.25\n",
            "Iteration #520: W_new = [14.5 14. ], MSE = 874.25\n",
            "Iteration #560: W_new = [14.5 14. ], MSE = 874.25\n",
            "Iteration #600: W_new = [14.5 14. ], MSE = 874.25\n",
            "Iteration #640: W_new = [14.5 14. ], MSE = 874.25\n",
            "Iteration #680: W_new = [14.5 14. ], MSE = 874.25\n",
            "Iteration #720: W_new = [14.5 14. ], MSE = 874.25\n",
            "Iteration #760: W_new = [14.5 14. ], MSE = 874.25\n",
            "Iteration #800: W_new = [14.5 14. ], MSE = 874.25\n",
            "Iteration #840: W_new = [14.5 14. ], MSE = 874.25\n",
            "Iteration #880: W_new = [14.5 14. ], MSE = 874.25\n",
            "Iteration #920: W_new = [14.5 14. ], MSE = 874.25\n",
            "Iteration #960: W_new = [14.5 14. ], MSE = 874.25\n"
          ]
        }
      ]
    },
    {
      "cell_type": "markdown",
      "source": [
        " ***Вместо того, чтобы задавать количество итераций, задайте другое условие останова алгоритма - когда веса перестают изменяться меньше определенного порога $\\epsilon$ .***"
      ],
      "metadata": {
        "id": "6Dnv7A8hgNRN"
      }
    },
    {
      "cell_type": "code",
      "source": [
        ""
      ],
      "metadata": {
        "id": "3PeYVk5JC8_i"
      },
      "execution_count": null,
      "outputs": []
    }
  ]
}